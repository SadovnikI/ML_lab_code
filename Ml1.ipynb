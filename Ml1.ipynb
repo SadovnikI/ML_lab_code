{
  "cells": [
    {
      "cell_type": "markdown",
      "metadata": {
        "id": "XcSewSRc7Em7"
      },
      "source": [
        "# Variational Autoencoders for Collaborative Filtering on MovieLens dataset.\n",
        "\n",
        "\n",
        "\n",
        "\n"
      ]
    },
    {
      "cell_type": "markdown",
      "metadata": {
        "id": "wqTaWp1M7Em8"
      },
      "source": [
        "# Imports"
      ]
    },
    {
      "cell_type": "code",
      "source": [
        "!sudo apt install gcc"
      ],
      "metadata": {
        "id": "WvPq4bVMN5hp"
      },
      "execution_count": null,
      "outputs": []
    },
    {
      "cell_type": "code",
      "source": [
        "%pip insatall recommenders\n",
        "%pip insatall papermill"
      ],
      "metadata": {
        "id": "P6NNIbbxN1Hk"
      },
      "execution_count": null,
      "outputs": []
    },
    {
      "cell_type": "code",
      "source": [
        "import sys\n",
        "import os\n",
        "import numpy as np\n",
        "import pandas as pd\n",
        "import papermill as pm\n",
        "import matplotlib.pyplot as plt\n",
        "import seaborn as sns\n",
        "import tensorflow as tf\n",
        "import keras"
      ],
      "metadata": {
        "id": "aiMquAIDAulL"
      },
      "execution_count": null,
      "outputs": []
    },
    {
      "cell_type": "code",
      "source": [
        "from recommenders.utils.timer import Timer\n",
        "from recommenders.datasets import movielens\n",
        "from recommenders.datasets.split_utils import min_rating_filter_pandas\n",
        "from recommenders.datasets.python_splitters import numpy_stratified_split\n",
        "from recommenders.evaluation.python_evaluation import map_at_k, ndcg_at_k, precision_at_k, recall_at_k\n",
        "from recommenders.utils.constants import SEED as DEFAULT_SEED\n",
        "from recommenders.datasets.sparse import AffinityMatrix\n",
        "from recommenders.utils.python_utils import binarize\n",
        "from recommenders.models.vae.standard_vae import StandardVAE"
      ],
      "metadata": {
        "id": "rNflvZyRAqvO"
      },
      "execution_count": null,
      "outputs": []
    },
    {
      "cell_type": "code",
      "execution_count": null,
      "metadata": {
        "id": "AH6Cjbta7EnB",
        "tags": [
          "parameters"
        ]
      },
      "outputs": [],
      "source": [
        "TOP_K = 100\n",
        "\n",
        "MOVIELENS_DATA_SIZE = '1m'\n",
        "\n",
        "HELDOUT_USERS = 600\n",
        "INTERMEDIATE_DIM = 200\n",
        "LATENT_DIM = 70\n",
        "EPOCHS = 400\n",
        "BATCH_SIZE = 100\n",
        "\n",
        "SEED = 98765"
      ]
    },
    {
      "cell_type": "markdown",
      "metadata": {
        "id": "r7Eb3TY1ytdW"
      },
      "source": [
        "# 3 Data Preparation"
      ]
    },
    {
      "cell_type": "markdown",
      "metadata": {
        "id": "qCKNsE9z7EnE"
      },
      "source": [
        "### 3.1 Load data and split\n",
        "\n"
      ]
    },
    {
      "cell_type": "markdown",
      "metadata": {
        "id": "YV_SaTQeRkkK"
      },
      "source": [
        "#### Load data"
      ]
    },
    {
      "cell_type": "code",
      "execution_count": null,
      "metadata": {
        "colab": {
          "base_uri": "https://localhost:8080/",
          "height": 215
        },
        "id": "SFSY6UrI7EnF",
        "outputId": "4d91e9ce-f701-4bbf-9d38-289f6d5089b2"
      },
      "outputs": [
        {
          "name": "stderr",
          "output_type": "stream",
          "text": [
            "100%|██████████| 5.78k/5.78k [00:00<00:00, 6.25kKB/s]\n"
          ]
        },
        {
          "data": {
            "text/html": [
              "<div>\n",
              "<style scoped>\n",
              "    .dataframe tbody tr th:only-of-type {\n",
              "        vertical-align: middle;\n",
              "    }\n",
              "\n",
              "    .dataframe tbody tr th {\n",
              "        vertical-align: top;\n",
              "    }\n",
              "\n",
              "    .dataframe thead th {\n",
              "        text-align: right;\n",
              "    }\n",
              "</style>\n",
              "<table border=\"1\" class=\"dataframe\">\n",
              "  <thead>\n",
              "    <tr style=\"text-align: right;\">\n",
              "      <th></th>\n",
              "      <th>userID</th>\n",
              "      <th>itemID</th>\n",
              "      <th>rating</th>\n",
              "      <th>timestamp</th>\n",
              "    </tr>\n",
              "  </thead>\n",
              "  <tbody>\n",
              "    <tr>\n",
              "      <th>0</th>\n",
              "      <td>1</td>\n",
              "      <td>1193</td>\n",
              "      <td>5.0</td>\n",
              "      <td>978300760</td>\n",
              "    </tr>\n",
              "    <tr>\n",
              "      <th>1</th>\n",
              "      <td>1</td>\n",
              "      <td>661</td>\n",
              "      <td>3.0</td>\n",
              "      <td>978302109</td>\n",
              "    </tr>\n",
              "    <tr>\n",
              "      <th>2</th>\n",
              "      <td>1</td>\n",
              "      <td>914</td>\n",
              "      <td>3.0</td>\n",
              "      <td>978301968</td>\n",
              "    </tr>\n",
              "    <tr>\n",
              "      <th>3</th>\n",
              "      <td>1</td>\n",
              "      <td>3408</td>\n",
              "      <td>4.0</td>\n",
              "      <td>978300275</td>\n",
              "    </tr>\n",
              "    <tr>\n",
              "      <th>4</th>\n",
              "      <td>1</td>\n",
              "      <td>2355</td>\n",
              "      <td>5.0</td>\n",
              "      <td>978824291</td>\n",
              "    </tr>\n",
              "  </tbody>\n",
              "</table>\n",
              "</div>"
            ],
            "text/plain": [
              "   userID  itemID  rating  timestamp\n",
              "0       1    1193     5.0  978300760\n",
              "1       1     661     3.0  978302109\n",
              "2       1     914     3.0  978301968\n",
              "3       1    3408     4.0  978300275\n",
              "4       1    2355     5.0  978824291"
            ]
          },
          "execution_count": 5,
          "metadata": {
            "tags": []
          },
          "output_type": "execute_result"
        }
      ],
      "source": [
        "df = movielens.load_pandas_df(\n",
        "    size=MOVIELENS_DATA_SIZE,\n",
        "    header=[\"userID\", \"itemID\", \"rating\", \"timestamp\"]\n",
        ")\n",
        "\n",
        "df.head()"
      ]
    },
    {
      "cell_type": "code",
      "execution_count": null,
      "metadata": {
        "colab": {
          "base_uri": "https://localhost:8080/",
          "height": 34
        },
        "id": "d4T_sSWa2C_b",
        "outputId": "714b1d9e-afd9-4640-d624-e358a7c85004"
      },
      "outputs": [
        {
          "data": {
            "text/plain": [
              "(1000209, 4)"
            ]
          },
          "execution_count": 6,
          "metadata": {
            "tags": []
          },
          "output_type": "execute_result"
        }
      ],
      "source": [
        "df.shape"
      ]
    },
    {
      "cell_type": "markdown",
      "metadata": {
        "id": "7EXP5hSAewnA"
      },
      "source": [
        "#### Data Filtering\n",
        "\n"
      ]
    },
    {
      "cell_type": "markdown",
      "metadata": {
        "id": "Y3ng_FifVxHr"
      },
      "source": [
        "Makeing sure that user-to-movie interactions with rating <=3.5 are filtered out.\n",
        "\n"
      ]
    },
    {
      "cell_type": "code",
      "execution_count": null,
      "metadata": {
        "colab": {
          "base_uri": "https://localhost:8080/",
          "height": 365
        },
        "id": "oQWDlySeiBet",
        "outputId": "11c95672-6a96-4756-8cb7-dea2e90d8d32"
      },
      "outputs": [
        {
          "name": "stdout",
          "output_type": "stream",
          "text": [
            "(575281, 4)\n"
          ]
        },
        {
          "data": {
            "text/html": [
              "<div>\n",
              "<style scoped>\n",
              "    .dataframe tbody tr th:only-of-type {\n",
              "        vertical-align: middle;\n",
              "    }\n",
              "\n",
              "    .dataframe tbody tr th {\n",
              "        vertical-align: top;\n",
              "    }\n",
              "\n",
              "    .dataframe thead th {\n",
              "        text-align: right;\n",
              "    }\n",
              "</style>\n",
              "<table border=\"1\" class=\"dataframe\">\n",
              "  <thead>\n",
              "    <tr style=\"text-align: right;\">\n",
              "      <th></th>\n",
              "      <th>userID</th>\n",
              "      <th>itemID</th>\n",
              "      <th>rating</th>\n",
              "      <th>timestamp</th>\n",
              "    </tr>\n",
              "  </thead>\n",
              "  <tbody>\n",
              "    <tr>\n",
              "      <th>0</th>\n",
              "      <td>1</td>\n",
              "      <td>1193</td>\n",
              "      <td>5.0</td>\n",
              "      <td>978300760</td>\n",
              "    </tr>\n",
              "    <tr>\n",
              "      <th>3</th>\n",
              "      <td>1</td>\n",
              "      <td>3408</td>\n",
              "      <td>4.0</td>\n",
              "      <td>978300275</td>\n",
              "    </tr>\n",
              "    <tr>\n",
              "      <th>4</th>\n",
              "      <td>1</td>\n",
              "      <td>2355</td>\n",
              "      <td>5.0</td>\n",
              "      <td>978824291</td>\n",
              "    </tr>\n",
              "    <tr>\n",
              "      <th>6</th>\n",
              "      <td>1</td>\n",
              "      <td>1287</td>\n",
              "      <td>5.0</td>\n",
              "      <td>978302039</td>\n",
              "    </tr>\n",
              "    <tr>\n",
              "      <th>7</th>\n",
              "      <td>1</td>\n",
              "      <td>2804</td>\n",
              "      <td>5.0</td>\n",
              "      <td>978300719</td>\n",
              "    </tr>\n",
              "    <tr>\n",
              "      <th>8</th>\n",
              "      <td>1</td>\n",
              "      <td>594</td>\n",
              "      <td>4.0</td>\n",
              "      <td>978302268</td>\n",
              "    </tr>\n",
              "    <tr>\n",
              "      <th>9</th>\n",
              "      <td>1</td>\n",
              "      <td>919</td>\n",
              "      <td>4.0</td>\n",
              "      <td>978301368</td>\n",
              "    </tr>\n",
              "    <tr>\n",
              "      <th>10</th>\n",
              "      <td>1</td>\n",
              "      <td>595</td>\n",
              "      <td>5.0</td>\n",
              "      <td>978824268</td>\n",
              "    </tr>\n",
              "    <tr>\n",
              "      <th>11</th>\n",
              "      <td>1</td>\n",
              "      <td>938</td>\n",
              "      <td>4.0</td>\n",
              "      <td>978301752</td>\n",
              "    </tr>\n",
              "    <tr>\n",
              "      <th>12</th>\n",
              "      <td>1</td>\n",
              "      <td>2398</td>\n",
              "      <td>4.0</td>\n",
              "      <td>978302281</td>\n",
              "    </tr>\n",
              "  </tbody>\n",
              "</table>\n",
              "</div>"
            ],
            "text/plain": [
              "    userID  itemID  rating  timestamp\n",
              "0        1    1193     5.0  978300760\n",
              "3        1    3408     4.0  978300275\n",
              "4        1    2355     5.0  978824291\n",
              "6        1    1287     5.0  978302039\n",
              "7        1    2804     5.0  978300719\n",
              "8        1     594     4.0  978302268\n",
              "9        1     919     4.0  978301368\n",
              "10       1     595     5.0  978824268\n",
              "11       1     938     4.0  978301752\n",
              "12       1    2398     4.0  978302281"
            ]
          },
          "execution_count": 7,
          "metadata": {
            "tags": []
          },
          "output_type": "execute_result"
        }
      ],
      "source": [
        "df_preferred = df[df['rating'] > 3.5]\n",
        "print(df_preferred.shape)\n",
        "df_low_rating = df[df['rating'] <= 3.5]\n",
        "\n",
        "df_preferred.head(10)"
      ]
    },
    {
      "cell_type": "code",
      "execution_count": null,
      "metadata": {
        "colab": {
          "base_uri": "https://localhost:8080/",
          "height": 406
        },
        "id": "9K1zSJPMv5Kg",
        "outputId": "a2d58cb3-9424-4ce4-a57c-5a58c7eb590f"
      },
      "outputs": [
        {
          "data": {
            "text/html": [
              "<div>\n",
              "<style scoped>\n",
              "    .dataframe tbody tr th:only-of-type {\n",
              "        vertical-align: middle;\n",
              "    }\n",
              "\n",
              "    .dataframe tbody tr th {\n",
              "        vertical-align: top;\n",
              "    }\n",
              "\n",
              "    .dataframe thead th {\n",
              "        text-align: right;\n",
              "    }\n",
              "</style>\n",
              "<table border=\"1\" class=\"dataframe\">\n",
              "  <thead>\n",
              "    <tr style=\"text-align: right;\">\n",
              "      <th></th>\n",
              "      <th>userID</th>\n",
              "      <th>itemID</th>\n",
              "      <th>rating</th>\n",
              "      <th>timestamp</th>\n",
              "    </tr>\n",
              "  </thead>\n",
              "  <tbody>\n",
              "    <tr>\n",
              "      <th>1</th>\n",
              "      <td>1</td>\n",
              "      <td>661</td>\n",
              "      <td>3.0</td>\n",
              "      <td>978302109</td>\n",
              "    </tr>\n",
              "    <tr>\n",
              "      <th>2</th>\n",
              "      <td>1</td>\n",
              "      <td>914</td>\n",
              "      <td>3.0</td>\n",
              "      <td>978301968</td>\n",
              "    </tr>\n",
              "    <tr>\n",
              "      <th>5</th>\n",
              "      <td>1</td>\n",
              "      <td>1197</td>\n",
              "      <td>3.0</td>\n",
              "      <td>978302268</td>\n",
              "    </tr>\n",
              "    <tr>\n",
              "      <th>16</th>\n",
              "      <td>1</td>\n",
              "      <td>2687</td>\n",
              "      <td>3.0</td>\n",
              "      <td>978824268</td>\n",
              "    </tr>\n",
              "    <tr>\n",
              "      <th>20</th>\n",
              "      <td>1</td>\n",
              "      <td>2321</td>\n",
              "      <td>3.0</td>\n",
              "      <td>978302205</td>\n",
              "    </tr>\n",
              "    <tr>\n",
              "      <th>...</th>\n",
              "      <td>...</td>\n",
              "      <td>...</td>\n",
              "      <td>...</td>\n",
              "      <td>...</td>\n",
              "    </tr>\n",
              "    <tr>\n",
              "      <th>1000195</th>\n",
              "      <td>6040</td>\n",
              "      <td>1079</td>\n",
              "      <td>2.0</td>\n",
              "      <td>956715648</td>\n",
              "    </tr>\n",
              "    <tr>\n",
              "      <th>1000197</th>\n",
              "      <td>6040</td>\n",
              "      <td>2020</td>\n",
              "      <td>3.0</td>\n",
              "      <td>956715288</td>\n",
              "    </tr>\n",
              "    <tr>\n",
              "      <th>1000198</th>\n",
              "      <td>6040</td>\n",
              "      <td>2021</td>\n",
              "      <td>3.0</td>\n",
              "      <td>956716374</td>\n",
              "    </tr>\n",
              "    <tr>\n",
              "      <th>1000203</th>\n",
              "      <td>6040</td>\n",
              "      <td>1090</td>\n",
              "      <td>3.0</td>\n",
              "      <td>956715518</td>\n",
              "    </tr>\n",
              "    <tr>\n",
              "      <th>1000204</th>\n",
              "      <td>6040</td>\n",
              "      <td>1091</td>\n",
              "      <td>1.0</td>\n",
              "      <td>956716541</td>\n",
              "    </tr>\n",
              "  </tbody>\n",
              "</table>\n",
              "<p>424928 rows × 4 columns</p>\n",
              "</div>"
            ],
            "text/plain": [
              "         userID  itemID  rating  timestamp\n",
              "1             1     661     3.0  978302109\n",
              "2             1     914     3.0  978301968\n",
              "5             1    1197     3.0  978302268\n",
              "16            1    2687     3.0  978824268\n",
              "20            1    2321     3.0  978302205\n",
              "...         ...     ...     ...        ...\n",
              "1000195    6040    1079     2.0  956715648\n",
              "1000197    6040    2020     3.0  956715288\n",
              "1000198    6040    2021     3.0  956716374\n",
              "1000203    6040    1090     3.0  956715518\n",
              "1000204    6040    1091     1.0  956716541\n",
              "\n",
              "[424928 rows x 4 columns]"
            ]
          },
          "execution_count": 8,
          "metadata": {
            "tags": []
          },
          "output_type": "execute_result"
        }
      ],
      "source": [
        "df_low_rating"
      ]
    },
    {
      "cell_type": "markdown",
      "source": [
        "Makeing sure that the users who clicked less than 5 movies are filtered out.\n"
      ],
      "metadata": {
        "id": "bGLyAvjTByHU"
      }
    },
    {
      "cell_type": "code",
      "execution_count": null,
      "metadata": {
        "id": "hwIiD5BL2IBY"
      },
      "outputs": [],
      "source": [
        "df = min_rating_filter_pandas(df_preferred, min_rating=5, filter_by=\"user\")\n",
        "\n",
        "df = min_rating_filter_pandas(df, min_rating=1, filter_by=\"item\")"
      ]
    },
    {
      "cell_type": "markdown",
      "metadata": {
        "id": "ha1fHIx_nqH8"
      },
      "source": [
        "#### Split data\n",
        "Data stlit by users is 10% validation set, 10% testing set  and 80% training set.\n",
        "Validation and test set should not contain movies that do not exist in the train set."
      ]
    },
    {
      "cell_type": "code",
      "execution_count": null,
      "metadata": {
        "id": "keLEIqb-LMoi"
      },
      "outputs": [],
      "source": [
        "unique_users = sorted(df.userID.unique())\n",
        "unique_users = np.random.permutation(unique_users)"
      ]
    },
    {
      "cell_type": "code",
      "execution_count": null,
      "metadata": {
        "colab": {
          "base_uri": "https://localhost:8080/",
          "height": 141
        },
        "id": "3PswIHyDkidS",
        "outputId": "4dabe891-ab66-43a4-c7ed-b17788e49010"
      },
      "outputs": [
        {
          "name": "stdout",
          "output_type": "stream",
          "text": [
            "Number of unique users: 6034\n",
            "\n",
            "Number of training users: 4834\n",
            "\n",
            "Number of validation users: 600\n",
            "\n",
            "Number of test users: 600\n"
          ]
        }
      ],
      "source": [
        "n_users = len(unique_users)\n",
        "train_users = unique_users[:(n_users - HELDOUT_USERS * 2)]\n",
        "val_users = unique_users[(n_users - HELDOUT_USERS * 2) : (n_users - HELDOUT_USERS)]\n",
        "test_users = unique_users[(n_users - HELDOUT_USERS):]\n",
        "\n",
        "print(\"Number of unique users:\", n_users)\n",
        "print(\"Number of training users:\", len(train_users))\n",
        "print(\"Number of validation users:\", len(val_users))\n",
        "print(\"Number of test users:\", len(test_users))"
      ]
    },
    {
      "cell_type": "code",
      "source": [
        "train_set = df.loc[df['userID'].isin(train_users)]\n",
        "val_set = df.loc[df['userID'].isin(val_users)]\n",
        "test_set = df.loc[df['userID'].isin(test_users)]"
      ],
      "metadata": {
        "id": "JrPLU55GDb3S"
      },
      "execution_count": null,
      "outputs": []
    },
    {
      "cell_type": "code",
      "source": [
        "unique_train_items = pd.unique(train_set['itemID'])"
      ],
      "metadata": {
        "id": "P7XDx3iHDhdR"
      },
      "execution_count": null,
      "outputs": []
    },
    {
      "cell_type": "code",
      "source": [
        "val_set = val_set.loc[val_set['itemID'].isin(unique_train_items)]\n",
        "test_set = test_set.loc[test_set['itemID'].isin(unique_train_items)]"
      ],
      "metadata": {
        "id": "FTK9kpqYDnhX"
      },
      "execution_count": null,
      "outputs": []
    },
    {
      "cell_type": "markdown",
      "metadata": {
        "id": "0eKkN1F-RHSJ"
      },
      "source": [
        "## 3.2 Click matrix generation\n",
        "\n",
        "Building click matrix 4 datasets with split of 75% on 25%:\n",
        "- val_data_tr\n",
        "- val_data_te\n",
        "- test_data_tr\n",
        "- test_data_te\n"
      ]
    },
    {
      "cell_type": "code",
      "execution_count": null,
      "metadata": {
        "id": "_cYDwcy3ohEu"
      },
      "outputs": [],
      "source": [
        "am_train = AffinityMatrix(df=train_set, items_list=unique_train_items)\n",
        "am_val = AffinityMatrix(df=val_set, items_list=unique_train_items)\n",
        "am_test = AffinityMatrix(df=test_set, items_list=unique_train_items)"
      ]
    },
    {
      "cell_type": "code",
      "execution_count": null,
      "metadata": {
        "colab": {
          "base_uri": "https://localhost:8080/",
          "height": 70
        },
        "id": "oygrnMOcpZxD",
        "outputId": "d5c1a15a-cc80-4e76-a39d-eab114932ee9"
      },
      "outputs": [
        {
          "name": "stdout",
          "output_type": "stream",
          "text": [
            "(4834, 3497)\n",
            "(600, 3497)\n",
            "(600, 3497)\n"
          ]
        }
      ],
      "source": [
        "train_data, _, _ = am_train.gen_affinity_matrix()\n",
        "val_data, val_map_users, val_map_items = am_val.gen_affinity_matrix()\n",
        "test_data, test_map_users, test_map_items = am_test.gen_affinity_matrix()\n",
        "\n",
        "\n",
        "print(test_data.shape)\n",
        "print(train_data.shape)\n",
        "print(val_data.shape)"
      ]
    },
    {
      "cell_type": "code",
      "execution_count": null,
      "metadata": {
        "id": "WZwuDmuAsos3"
      },
      "outputs": [],
      "source": [
        "val_data_tr, val_data_te = numpy_stratified_split(val_data, ratio=0.75)\n",
        "test_data_tr, test_data_te = numpy_stratified_split(test_data, ratio=0.75)"
      ]
    },
    {
      "cell_type": "code",
      "execution_count": null,
      "metadata": {
        "id": "msr8uWO7DbYa"
      },
      "outputs": [],
      "source": [
        "train_data = binarize(a=train_data, threshold=3.5)\n",
        "val_data = binarize(a=val_data, threshold=3.5)\n",
        "test_data = binarize(a=test_data, threshold=3.5)"
      ]
    },
    {
      "cell_type": "code",
      "execution_count": null,
      "metadata": {
        "id": "T0eGYzRqCs_r"
      },
      "outputs": [],
      "source": [
        "val_data_tr = binarize(a=val_data_tr, threshold=3.5)\n",
        "val_data_te_ratings = val_data_te.copy()\n",
        "val_data_te = binarize(a=val_data_te, threshold=3.5)"
      ]
    },
    {
      "cell_type": "code",
      "execution_count": null,
      "metadata": {
        "id": "ofVbsCAZGGKy"
      },
      "outputs": [],
      "source": [
        "test_data_tr = binarize(a=test_data_tr, threshold=3.5)\n",
        "test_data_te_ratings = test_data_te.copy()\n",
        "test_data_te = binarize(a=test_data_te, threshold=3.5)"
      ]
    },
    {
      "cell_type": "code",
      "execution_count": null,
      "metadata": {
        "id": "XejDWxLhkjFN"
      },
      "outputs": [],
      "source": [
        "test_data_te_ratings=pd.DataFrame(test_data_te_ratings)\n",
        "val_data_te_ratings=pd.DataFrame(val_data_te_ratings)\n",
        "\n",
        "for index,i in df_low_rating.iterrows():\n",
        "  user_old= i['userID']\n",
        "  item_old=i['itemID']\n",
        "\n",
        "  if (test_map_users.get(user_old) is not None)  and (test_map_items.get(item_old) is not None) :\n",
        "      user_new=test_map_users.get(user_old)\n",
        "      item_new=test_map_items.get(item_old)\n",
        "      rating=i['rating']\n",
        "      test_data_te_ratings.at[user_new,item_new]= rating\n",
        "\n",
        "  if (val_map_users.get(user_old) is not None)  and (val_map_items.get(item_old) is not None) :\n",
        "      user_new=val_map_users.get(user_old)\n",
        "      item_new=val_map_items.get(item_old)\n",
        "      rating=i['rating']\n",
        "      val_data_te_ratings.at[user_new,item_new]= rating\n",
        "\n",
        "\n",
        "val_data_te_ratings=val_data_te_ratings.to_numpy()\n",
        "test_data_te_ratings=test_data_te_ratings.to_numpy()"
      ]
    },
    {
      "cell_type": "markdown",
      "metadata": {
        "id": "ZZUSmIm2O0aq"
      },
      "source": [
        "## 4 Build VAE with $\\mathbf \\beta$= 1."
      ]
    },
    {
      "cell_type": "code",
      "execution_count": null,
      "metadata": {
        "id": "9tzclS2sgVqa"
      },
      "outputs": [],
      "source": [
        "model_without_anneal = StandardVAE(n_users=train_data.shape[0],\n",
        "                                   original_dim=train_data.shape[1],\n",
        "                                   intermediate_dim=INTERMEDIATE_DIM,\n",
        "                                   latent_dim=LATENT_DIM,\n",
        "                                   n_epochs=EPOCHS,\n",
        "                                   batch_size=BATCH_SIZE,\n",
        "                                   k=TOP_K,\n",
        "                                   verbose=0,\n",
        "                                   drop_encoder=0.5,\n",
        "                                   drop_decoder=0.5,\n",
        "                                   annealing=False,\n",
        "                                   beta=1.0\n",
        "                                   )"
      ]
    },
    {
      "cell_type": "code",
      "source": [
        "model_without_anneal.fit(\n",
        "    x_train=train_data,\n",
        "    x_valid=val_data,\n",
        "    x_val_tr=val_data_tr,\n",
        "    x_val_te=val_data_te_ratings,\n",
        "    mapper=am_val\n",
        "    )"
      ],
      "metadata": {
        "id": "U3w1bZmFEP0M"
      },
      "execution_count": null,
      "outputs": []
    },
    {
      "cell_type": "code",
      "execution_count": null,
      "metadata": {
        "colab": {
          "base_uri": "https://localhost:8080/",
          "height": 238
        },
        "id": "68RGXLBMqFEH",
        "outputId": "003cac8d-0c6d-4e79-d839-8f07201a0b8d"
      },
      "outputs": [
        {
          "data": {
            "image/png": "[encoded data removed]",
            "text/plain": [
              "<Figure size 1008x360 with 2 Axes>"
            ]
          },
          "metadata": {
            "tags": []
          },
          "output_type": "display_data"
        }
      ],
      "source": [
        "model_without_anneal.display_metrics()"
      ]
    },
    {
      "cell_type": "code",
      "execution_count": null,
      "metadata": {
        "id": "rpAEwHkwMoz9"
      },
      "outputs": [],
      "source": [
        "ndcg_val_without_anneal = model_without_anneal.ndcg_per_epoch()"
      ]
    },
    {
      "cell_type": "markdown",
      "metadata": {
        "id": "HGIwwhxgi30H"
      },
      "source": [
        "#### Prediction and Evaluation of VAE model with $\\beta$ = 1."
      ]
    },
    {
      "cell_type": "markdown",
      "metadata": {
        "id": "stK8DSn1xyJn"
      },
      "source": [
        "Evaluate with k = 10"
      ]
    },
    {
      "cell_type": "code",
      "source": [
        "top_k =  model_without_anneal.recommend_k_items(x=test_data_tr,\n",
        "                                                k=10,\n",
        "                                                remove_seen=True\n",
        "                                                )\n",
        "\n",
        "top_k_df = am_test.map_back_sparse(top_k, kind='prediction')\n",
        "test_df = am_test.map_back_sparse(test_data_te_ratings, kind='ratings')\n",
        "\n",
        "\n",
        "# ranking metrics\n",
        "eval_map_1 = map_at_k(test_df, top_k_df, col_prediction='prediction', k=10)\n",
        "eval_ndcg_1 = ndcg_at_k(test_df, top_k_df, col_prediction='prediction', k=10)\n",
        "eval_precision_1 = precision_at_k(test_df, top_k_df, col_prediction='prediction', k=10)\n",
        "eval_recall_1 = recall_at_k(test_df, top_k_df, col_prediction='prediction', k=10)\n",
        "\n",
        "print(f\"MAP@10:\\t\\t {eval_map_1}\")\n",
        "print(f\"NDCG@10:\\t{eval_ndcg_1}\")\n",
        "print(f\"Precision@10:\\t{eval_precision_1}\")\n",
        "print(f\"Recall@10: \\t{eval_recall_1}\")"
      ],
      "metadata": {
        "colab": {
          "base_uri": "https://localhost:8080/"
        },
        "id": "M2d1XePCMNCj",
        "outputId": "4e36fbce-b87a-4156-8a6d-41f216e99fd3"
      },
      "execution_count": null,
      "outputs": [
        {
          "output_type": "stream",
          "name": "stdout",
          "text": [
            "MAP@10:\t\t 0.041101\n",
            "NDCG@10:\t0.406207\n",
            "Precision@10:\t0.321167\n",
            "Recall@10: \t0.091352\n"
          ]
        }
      ]
    },
    {
      "cell_type": "markdown",
      "metadata": {
        "id": "zupjoESMwNn4"
      },
      "source": [
        "Evaluate with k = 100"
      ]
    },
    {
      "cell_type": "code",
      "source": [
        "top_k =  model_without_anneal.recommend_k_items(x=test_data_tr,\n",
        "                                                k=TOP_K,\n",
        "                                                remove_seen=True\n",
        "                                                )\n",
        "\n",
        "top_k_df = am_test.map_back_sparse(top_k, kind='prediction')\n",
        "test_df = am_test.map_back_sparse(test_data_te_ratings, kind='ratings')\n",
        "\n",
        "# ranking metrics\n",
        "eval_map_2 = map_at_k(test_df, top_k_df, col_prediction='prediction', k=TOP_K)\n",
        "eval_ndcg_2 = ndcg_at_k(test_df, top_k_df, col_prediction='prediction', k=TOP_K)\n",
        "eval_precision_2 = precision_at_k(test_df, top_k_df, col_prediction='prediction', k=TOP_K)\n",
        "eval_recall_2 = recall_at_k(test_df, top_k_df, col_prediction='prediction', k=TOP_K)\n",
        "\n",
        "print(f\"MAP@10:\\t\\t {eval_map_1}\")\n",
        "print(f\"NDCG@10:\\t{eval_ndcg_1}\")\n",
        "print(f\"Precision@10:\\t{eval_precision_1}\")\n",
        "print(f\"Recall@10: \\t{eval_recall_1}\")"
      ],
      "metadata": {
        "colab": {
          "base_uri": "https://localhost:8080/"
        },
        "id": "l0aMGJKiMo6_",
        "outputId": "fee68218-6963-4307-ed06-dbeb9ef118da"
      },
      "execution_count": null,
      "outputs": [
        {
          "output_type": "stream",
          "name": "stdout",
          "text": [
            "MAP@10:\t\t 0.128121\n",
            "NDCG@10:\t0.312319\n",
            "Precision@10:\t0.191383\n",
            "Recall@10: \t0.224346\n"
          ]
        }
      ]
    },
    {
      "cell_type": "markdown",
      "metadata": {
        "id": "jNPefXO7wZP2"
      },
      "source": [
        "# 5 Conclusion"
      ]
    },
    {
      "cell_type": "markdown",
      "source": [
        "In conclusion, we observe that our model exhibits slightly less impressive results than the one presented in the paper. This discrepancy can be attributed to differences in dataset size (1 million in our case versus 20 million in the paper) and variations in model parameters."
      ],
      "metadata": {
        "id": "Y69owcBHY8Gk"
      }
    }
  ],
  "metadata": {
    "accelerator": "GPU",
    "celltoolbar": "Tags",
    "colab": {
      "machine_shape": "hm",
      "provenance": []
    },
    "kernelspec": {
      "display_name": "Python 3",
      "language": "python",
      "name": "python3"
    },
    "language_info": {
      "codemirror_mode": {
        "name": "ipython",
        "version": 3
      },
      "file_extension": ".py",
      "mimetype": "text/x-python",
      "name": "python",
      "nbconvert_exporter": "python",
      "pygments_lexer": "ipython3",
      "version": "3.7.4"
    }
  },
  "nbformat": 4,
  "nbformat_minor": 0
}